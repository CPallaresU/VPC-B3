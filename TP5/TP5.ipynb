{
 "cells": [
  {
   "cell_type": "code",
   "execution_count": 8,
   "metadata": {},
   "outputs": [],
   "source": [
    "import cv2 as cv"
   ]
  },
  {
   "cell_type": "code",
   "execution_count": 9,
   "metadata": {},
   "outputs": [],
   "source": [
    "metodo = 'MOG2'\n",
    "#metodo = 'KNN'\n",
    "if metodo == 'MOG2':\n",
    "    backSub = cv.createBackgroundSubtractorMOG2()\n",
    "else:\n",
    "    backSub = cv.createBackgroundSubtractorKNN()\n",
    "    backSub = cv.createBackgroundSubtractorKNN(detectShadows = True)"
   ]
  },
  {
   "cell_type": "code",
   "execution_count": 10,
   "metadata": {},
   "outputs": [],
   "source": [
    "# Abrimos el archivo\n",
    "#-------------------\n",
    "filename = 'bridge.avi'\n",
    "capture = cv.VideoCapture(filename)\n",
    "\n",
    "if not capture.isOpened:\n",
    "    print('Falla al abrir el archivo: ' + filename)\n",
    "    exit(0)\n",
    "\n",
    "# Corremos la sustraccion\n",
    "#------------------------\n",
    "while True:\n",
    "    # Leemos un frame\n",
    "    ret, frame = capture.read()\n",
    "    if frame is None:\n",
    "        break\n",
    "    \n",
    "    # Aplicamos la sustracción al frame leído\n",
    "    #----------------------------------------\n",
    "    # Cada frame se utiliza tanto para calcular la máscara de primer plano como para actualizar el fondo.\n",
    "    # Si se desea cambiar la tasa de aprendizaje utilizada para actualizar el modelo de fondo, es posible\n",
    "    # establecer una tasa de aprendizaje específica pasando un parámetro al método apply.\n",
    "    fgMask = backSub.apply(frame)\n",
    "    \n",
    "    # Escribimos sobre la imagen el número de frame procesado\n",
    "    cv.rectangle(frame, (10, 2), (100,20), (255,255,255), -1)\n",
    "    cv.putText(frame, str(capture.get(cv.CAP_PROP_POS_FRAMES)), (15, 15),\n",
    "               cv.FONT_HERSHEY_SIMPLEX, 0.5 , (0,0,0))\n",
    "    \n",
    "    # mostramos frame original e imagen binaria background/foreground\n",
    "    cv.imshow('Frame', frame)\n",
    "    cv.imshow('FG Mask', fgMask)\n",
    "    \n",
    "    # Corresmos hasta que termine o apriete escape\n",
    "    keyboard = cv.waitKey(30)\n",
    "    if keyboard == 'q' or keyboard == 27:\n",
    "        break\n",
    "\n",
    "cv.destroyAllWindows()\n",
    "capture.release()"
   ]
  },
  {
   "cell_type": "code",
   "execution_count": 15,
   "metadata": {},
   "outputs": [],
   "source": [
    "##El metodo MOG2, el video es más rápido que usando el método Knn\n",
    "##esto se debe a que el tiempo de clasificación de Knn es mucho mas lento\n",
    "##ya que debe realizar mediciones entre vecinos, mientras que MOG2 solo genera\n",
    "#una probabilidad inmediata basado en lo que entrenó inicialmente.\n",
    "\n",
    "##MOG2 genera el stream en la velocidad correcta pero con más ruido\n",
    "##Knn genera el stream en velocidad mas lenta pero sin tanto ruido\n",
    "\n",
    "##Adicional existe un \"ruido\" generado por el agua, tiene un movimiento\n",
    "##pero su color cambia demasiado entre frame por la luz que refleja del\n",
    "##sol, este detalle es omitido por Knn pero si es tomado por MOG2, en\n",
    "##algunos casos este \"ruido\" podría ser necesario si deseamos ser mas\n",
    "##detallistas"
   ]
  },
  {
   "cell_type": "code",
   "execution_count": null,
   "metadata": {},
   "outputs": [],
   "source": []
  }
 ],
 "metadata": {
  "kernelspec": {
   "display_name": "Python 3",
   "language": "python",
   "name": "python3"
  },
  "language_info": {
   "codemirror_mode": {
    "name": "ipython",
    "version": 3
   },
   "file_extension": ".py",
   "mimetype": "text/x-python",
   "name": "python",
   "nbconvert_exporter": "python",
   "pygments_lexer": "ipython3",
   "version": "3.8.5"
  }
 },
 "nbformat": 4,
 "nbformat_minor": 4
}
